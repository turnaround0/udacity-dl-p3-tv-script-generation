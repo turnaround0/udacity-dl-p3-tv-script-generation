{
 "cells": [
  {
   "cell_type": "markdown",
   "metadata": {
    "deletable": true,
    "editable": true
   },
   "source": [
    "# TV Script Generation\n",
    "In this project, you'll generate your own [Simpsons](https://en.wikipedia.org/wiki/The_Simpsons) TV scripts using RNNs.  You'll be using part of the [Simpsons dataset](https://www.kaggle.com/wcukierski/the-simpsons-by-the-data) of scripts from 27 seasons.  The Neural Network you'll build will generate a new TV script for a scene at [Moe's Tavern](https://simpsonswiki.com/wiki/Moe's_Tavern).\n",
    "## Get the Data\n",
    "The data is already provided for you.  You'll be using a subset of the original dataset.  It consists of only the scenes in Moe's Tavern.  This doesn't include other versions of the tavern, like \"Moe's Cavern\", \"Flaming Moe's\", \"Uncle Moe's Family Feed-Bag\", etc.."
   ]
  },
  {
   "cell_type": "code",
   "execution_count": 1,
   "metadata": {
    "collapsed": false,
    "deletable": true,
    "editable": true
   },
   "outputs": [],
   "source": [
    "\"\"\"\n",
    "DON'T MODIFY ANYTHING IN THIS CELL\n",
    "\"\"\"\n",
    "import helper\n",
    "\n",
    "data_dir = './data/simpsons/moes_tavern_lines.txt'\n",
    "text = helper.load_data(data_dir)\n",
    "# Ignore notice, since we don't use it for analysing the data\n",
    "text = text[81:]"
   ]
  },
  {
   "cell_type": "markdown",
   "metadata": {
    "deletable": true,
    "editable": true
   },
   "source": [
    "## Explore the Data\n",
    "Play around with `view_sentence_range` to view different parts of the data."
   ]
  },
  {
   "cell_type": "code",
   "execution_count": 2,
   "metadata": {
    "collapsed": false,
    "deletable": true,
    "editable": true
   },
   "outputs": [
    {
     "name": "stdout",
     "output_type": "stream",
     "text": [
      "Dataset Stats\n",
      "Roughly the number of unique words: 11492\n",
      "Number of scenes: 262\n",
      "Average number of sentences in each scene: 15.248091603053435\n",
      "Number of lines: 4257\n",
      "Average number of words in each line: 11.50434578341555\n",
      "\n",
      "The sentences 0 to 10:\n",
      "Moe_Szyslak: (INTO PHONE) Moe's Tavern. Where the elite meet to drink.\n",
      "Bart_Simpson: Eh, yeah, hello, is Mike there? Last name, Rotch.\n",
      "Moe_Szyslak: (INTO PHONE) Hold on, I'll check. (TO BARFLIES) Mike Rotch. Mike Rotch. Hey, has anybody seen Mike Rotch, lately?\n",
      "Moe_Szyslak: (INTO PHONE) Listen you little puke. One of these days I'm gonna catch you, and I'm gonna carve my name on your back with an ice pick.\n",
      "Moe_Szyslak: What's the matter Homer? You're not your normal effervescent self.\n",
      "Homer_Simpson: I got my problems, Moe. Give me another one.\n",
      "Moe_Szyslak: Homer, hey, you should not drink to forget your problems.\n",
      "Barney_Gumble: Yeah, you should only drink to enhance your social skills.\n",
      "\n",
      "\n"
     ]
    }
   ],
   "source": [
    "view_sentence_range = (0, 10)\n",
    "\n",
    "\"\"\"\n",
    "DON'T MODIFY ANYTHING IN THIS CELL\n",
    "\"\"\"\n",
    "import numpy as np\n",
    "\n",
    "print('Dataset Stats')\n",
    "print('Roughly the number of unique words: {}'.format(len({word: None for word in text.split()})))\n",
    "scenes = text.split('\\n\\n')\n",
    "print('Number of scenes: {}'.format(len(scenes)))\n",
    "sentence_count_scene = [scene.count('\\n') for scene in scenes]\n",
    "print('Average number of sentences in each scene: {}'.format(np.average(sentence_count_scene)))\n",
    "\n",
    "sentences = [sentence for scene in scenes for sentence in scene.split('\\n')]\n",
    "print('Number of lines: {}'.format(len(sentences)))\n",
    "word_count_sentence = [len(sentence.split()) for sentence in sentences]\n",
    "print('Average number of words in each line: {}'.format(np.average(word_count_sentence)))\n",
    "\n",
    "print()\n",
    "print('The sentences {} to {}:'.format(*view_sentence_range))\n",
    "print('\\n'.join(text.split('\\n')[view_sentence_range[0]:view_sentence_range[1]]))"
   ]
  },
  {
   "cell_type": "markdown",
   "metadata": {
    "deletable": true,
    "editable": true
   },
   "source": [
    "## Implement Preprocessing Functions\n",
    "The first thing to do to any dataset is preprocessing.  Implement the following preprocessing functions below:\n",
    "- Lookup Table\n",
    "- Tokenize Punctuation\n",
    "\n",
    "### Lookup Table\n",
    "To create a word embedding, you first need to transform the words to ids.  In this function, create two dictionaries:\n",
    "- Dictionary to go from the words to an id, we'll call `vocab_to_int`\n",
    "- Dictionary to go from the id to word, we'll call `int_to_vocab`\n",
    "\n",
    "Return these dictionaries in the following tuple `(vocab_to_int, int_to_vocab)`"
   ]
  },
  {
   "cell_type": "code",
   "execution_count": 3,
   "metadata": {
    "collapsed": false,
    "deletable": true,
    "editable": true
   },
   "outputs": [
    {
     "name": "stdout",
     "output_type": "stream",
     "text": [
      "Tests Passed\n"
     ]
    }
   ],
   "source": [
    "import numpy as np\n",
    "import problem_unittests as tests\n",
    "\n",
    "def create_lookup_tables(text):\n",
    "    \"\"\"\n",
    "    Create lookup tables for vocabulary\n",
    "    :param text: The text of tv scripts split into words\n",
    "    :return: A tuple of dicts (vocab_to_int, int_to_vocab)\n",
    "    \"\"\"\n",
    "    # TODO: Implement Function\n",
    "    vocab = set(text)\n",
    "    vocab_to_int = {word: idx for idx, word in enumerate(vocab)}\n",
    "    int_to_vocab = dict(enumerate(vocab))\n",
    "    return vocab_to_int, int_to_vocab\n",
    "\n",
    "\n",
    "\"\"\"\n",
    "DON'T MODIFY ANYTHING IN THIS CELL THAT IS BELOW THIS LINE\n",
    "\"\"\"\n",
    "tests.test_create_lookup_tables(create_lookup_tables)"
   ]
  },
  {
   "cell_type": "markdown",
   "metadata": {
    "deletable": true,
    "editable": true
   },
   "source": [
    "### Tokenize Punctuation\n",
    "We'll be splitting the script into a word array using spaces as delimiters.  However, punctuations like periods and exclamation marks make it hard for the neural network to distinguish between the word \"bye\" and \"bye!\".\n",
    "\n",
    "Implement the function `token_lookup` to return a dict that will be used to tokenize symbols like \"!\" into \"||Exclamation_Mark||\".  Create a dictionary for the following symbols where the symbol is the key and value is the token:\n",
    "- Period ( . )\n",
    "- Comma ( , )\n",
    "- Quotation Mark ( \" )\n",
    "- Semicolon ( ; )\n",
    "- Exclamation mark ( ! )\n",
    "- Question mark ( ? )\n",
    "- Left Parentheses ( ( )\n",
    "- Right Parentheses ( ) )\n",
    "- Dash ( -- )\n",
    "- Return ( \\n )\n",
    "\n",
    "This dictionary will be used to token the symbols and add the delimiter (space) around it.  This separates the symbols as it's own word, making it easier for the neural network to predict on the next word. Make sure you don't use a token that could be confused as a word. Instead of using the token \"dash\", try using something like \"||dash||\"."
   ]
  },
  {
   "cell_type": "code",
   "execution_count": 4,
   "metadata": {
    "collapsed": false,
    "deletable": true,
    "editable": true
   },
   "outputs": [
    {
     "name": "stdout",
     "output_type": "stream",
     "text": [
      "Tests Passed\n"
     ]
    }
   ],
   "source": [
    "def token_lookup():\n",
    "    \"\"\"\n",
    "    Generate a dict to turn punctuation into a token.\n",
    "    :return: Tokenize dictionary where the key is the punctuation and the value is the token\n",
    "    \"\"\"\n",
    "    # TODO: Implement Function\n",
    "    token_table = {\n",
    "        '.': '||period||',\n",
    "        ',': '||comma||',\n",
    "        '\\\"': '||quotation_mark||',\n",
    "        ';': '||semicolon||',\n",
    "        '!': '||exclamation_mark||',\n",
    "        '?': '||question_mark||',\n",
    "        '(': '||left_parentheses||',\n",
    "        ')': '||right_parentheses||',\n",
    "        '--': '||dash||',\n",
    "        '\\n': '||return||',\n",
    "    }\n",
    "    return token_table\n",
    "\n",
    "\"\"\"\n",
    "DON'T MODIFY ANYTHING IN THIS CELL THAT IS BELOW THIS LINE\n",
    "\"\"\"\n",
    "tests.test_tokenize(token_lookup)"
   ]
  },
  {
   "cell_type": "markdown",
   "metadata": {
    "deletable": true,
    "editable": true
   },
   "source": [
    "## Preprocess all the data and save it\n",
    "Running the code cell below will preprocess all the data and save it to file."
   ]
  },
  {
   "cell_type": "code",
   "execution_count": 5,
   "metadata": {
    "collapsed": false,
    "deletable": true,
    "editable": true
   },
   "outputs": [],
   "source": [
    "\"\"\"\n",
    "DON'T MODIFY ANYTHING IN THIS CELL\n",
    "\"\"\"\n",
    "# Preprocess Training, Validation, and Testing Data\n",
    "helper.preprocess_and_save_data(data_dir, token_lookup, create_lookup_tables)"
   ]
  },
  {
   "cell_type": "markdown",
   "metadata": {
    "deletable": true,
    "editable": true
   },
   "source": [
    "# Check Point\n",
    "This is your first checkpoint. If you ever decide to come back to this notebook or have to restart the notebook, you can start from here. The preprocessed data has been saved to disk."
   ]
  },
  {
   "cell_type": "code",
   "execution_count": 6,
   "metadata": {
    "collapsed": false,
    "deletable": true,
    "editable": true
   },
   "outputs": [],
   "source": [
    "\"\"\"\n",
    "DON'T MODIFY ANYTHING IN THIS CELL\n",
    "\"\"\"\n",
    "import helper\n",
    "import numpy as np\n",
    "import problem_unittests as tests\n",
    "\n",
    "int_text, vocab_to_int, int_to_vocab, token_dict = helper.load_preprocess()"
   ]
  },
  {
   "cell_type": "markdown",
   "metadata": {
    "deletable": true,
    "editable": true
   },
   "source": [
    "## Build the Neural Network\n",
    "You'll build the components necessary to build a RNN by implementing the following functions below:\n",
    "- get_inputs\n",
    "- get_init_cell\n",
    "- get_embed\n",
    "- build_rnn\n",
    "- build_nn\n",
    "- get_batches\n",
    "\n",
    "### Check the Version of TensorFlow and Access to GPU"
   ]
  },
  {
   "cell_type": "code",
   "execution_count": 7,
   "metadata": {
    "collapsed": false,
    "deletable": true,
    "editable": true
   },
   "outputs": [
    {
     "name": "stdout",
     "output_type": "stream",
     "text": [
      "TensorFlow Version: 1.1.0\n",
      "Default GPU Device: /gpu:0\n"
     ]
    }
   ],
   "source": [
    "\"\"\"\n",
    "DON'T MODIFY ANYTHING IN THIS CELL\n",
    "\"\"\"\n",
    "from distutils.version import LooseVersion\n",
    "import warnings\n",
    "import tensorflow as tf\n",
    "\n",
    "# Check TensorFlow Version\n",
    "assert LooseVersion(tf.__version__) >= LooseVersion('1.0'), 'Please use TensorFlow version 1.0 or newer'\n",
    "print('TensorFlow Version: {}'.format(tf.__version__))\n",
    "\n",
    "# Check for a GPU\n",
    "if not tf.test.gpu_device_name():\n",
    "    warnings.warn('No GPU found. Please use a GPU to train your neural network.')\n",
    "else:\n",
    "    print('Default GPU Device: {}'.format(tf.test.gpu_device_name()))"
   ]
  },
  {
   "cell_type": "markdown",
   "metadata": {
    "deletable": true,
    "editable": true
   },
   "source": [
    "### Input\n",
    "Implement the `get_inputs()` function to create TF Placeholders for the Neural Network.  It should create the following placeholders:\n",
    "- Input text placeholder named \"input\" using the [TF Placeholder](https://www.tensorflow.org/api_docs/python/tf/placeholder) `name` parameter.\n",
    "- Targets placeholder\n",
    "- Learning Rate placeholder\n",
    "\n",
    "Return the placeholders in the following tuple `(Input, Targets, LearningRate)`"
   ]
  },
  {
   "cell_type": "code",
   "execution_count": 8,
   "metadata": {
    "collapsed": false,
    "deletable": true,
    "editable": true
   },
   "outputs": [
    {
     "name": "stdout",
     "output_type": "stream",
     "text": [
      "Tests Passed\n"
     ]
    }
   ],
   "source": [
    "def get_inputs():\n",
    "    \"\"\"\n",
    "    Create TF Placeholders for input, targets, and learning rate.\n",
    "    :return: Tuple (input, targets, learning rate)\n",
    "    \"\"\"\n",
    "    # TODO: Implement Function\n",
    "    inputs = tf.placeholder(tf.int32, [None, None], name='input')\n",
    "    targets = tf.placeholder(tf.int32, [None, None], name='targets')\n",
    "    learning_rate = tf.placeholder(tf.float32, name='learning_rate')\n",
    "\n",
    "    return inputs, targets, learning_rate\n",
    "\n",
    "\n",
    "\"\"\"\n",
    "DON'T MODIFY ANYTHING IN THIS CELL THAT IS BELOW THIS LINE\n",
    "\"\"\"\n",
    "tests.test_get_inputs(get_inputs)"
   ]
  },
  {
   "cell_type": "markdown",
   "metadata": {
    "deletable": true,
    "editable": true
   },
   "source": [
    "### Build RNN Cell and Initialize\n",
    "Stack one or more [`BasicLSTMCells`](https://www.tensorflow.org/api_docs/python/tf/contrib/rnn/BasicLSTMCell) in a [`MultiRNNCell`](https://www.tensorflow.org/api_docs/python/tf/contrib/rnn/MultiRNNCell).\n",
    "- The Rnn size should be set using `rnn_size`\n",
    "- Initalize Cell State using the MultiRNNCell's [`zero_state()`](https://www.tensorflow.org/api_docs/python/tf/contrib/rnn/MultiRNNCell#zero_state) function\n",
    "    - Apply the name \"initial_state\" to the initial state using [`tf.identity()`](https://www.tensorflow.org/api_docs/python/tf/identity)\n",
    "\n",
    "Return the cell and initial state in the following tuple `(Cell, InitialState)`"
   ]
  },
  {
   "cell_type": "code",
   "execution_count": 9,
   "metadata": {
    "collapsed": false,
    "deletable": true,
    "editable": true
   },
   "outputs": [
    {
     "name": "stdout",
     "output_type": "stream",
     "text": [
      "Tests Passed\n"
     ]
    }
   ],
   "source": [
    "def get_init_cell(batch_size, rnn_size):\n",
    "    \"\"\"\n",
    "    Create an RNN Cell and initialize it.\n",
    "    :param batch_size: Size of batches\n",
    "    :param rnn_size: Size of RNNs\n",
    "    :return: Tuple (cell, initialize state)\n",
    "    \"\"\"\n",
    "    # TODO: Implement Function\n",
    "    lstm_layers = 2\n",
    "    cell = tf.contrib.rnn.MultiRNNCell([tf.contrib.rnn.BasicLSTMCell(rnn_size) for _ in range(lstm_layers)])\n",
    "    initial_state = tf.identity(cell.zero_state(batch_size, tf.float32), name='initial_state')\n",
    "    \n",
    "    return cell, initial_state\n",
    "\n",
    "\n",
    "\"\"\"\n",
    "DON'T MODIFY ANYTHING IN THIS CELL THAT IS BELOW THIS LINE\n",
    "\"\"\"\n",
    "tests.test_get_init_cell(get_init_cell)"
   ]
  },
  {
   "cell_type": "markdown",
   "metadata": {
    "deletable": true,
    "editable": true
   },
   "source": [
    "### Word Embedding\n",
    "Apply embedding to `input_data` using TensorFlow.  Return the embedded sequence."
   ]
  },
  {
   "cell_type": "code",
   "execution_count": 10,
   "metadata": {
    "collapsed": false,
    "deletable": true,
    "editable": true
   },
   "outputs": [
    {
     "name": "stdout",
     "output_type": "stream",
     "text": [
      "Tests Passed\n"
     ]
    }
   ],
   "source": [
    "def get_embed(input_data, vocab_size, embed_dim):\n",
    "    \"\"\"\n",
    "    Create embedding for <input_data>.\n",
    "    :param input_data: TF placeholder for text input.\n",
    "    :param vocab_size: Number of words in vocabulary.\n",
    "    :param embed_dim: Number of embedding dimensions\n",
    "    :return: Embedded input.\n",
    "    \"\"\"\n",
    "    # TODO: Implement Function\n",
    "    embedding = tf.Variable(tf.random_uniform((vocab_size, embed_dim), -1, 1))\n",
    "    embed = tf.nn.embedding_lookup(embedding, input_data)\n",
    "    \n",
    "    return embed\n",
    "\n",
    "\n",
    "\"\"\"\n",
    "DON'T MODIFY ANYTHING IN THIS CELL THAT IS BELOW THIS LINE\n",
    "\"\"\"\n",
    "tests.test_get_embed(get_embed)"
   ]
  },
  {
   "cell_type": "markdown",
   "metadata": {
    "deletable": true,
    "editable": true
   },
   "source": [
    "### Build RNN\n",
    "You created a RNN Cell in the `get_init_cell()` function.  Time to use the cell to create a RNN.\n",
    "- Build the RNN using the [`tf.nn.dynamic_rnn()`](https://www.tensorflow.org/api_docs/python/tf/nn/dynamic_rnn)\n",
    " - Apply the name \"final_state\" to the final state using [`tf.identity()`](https://www.tensorflow.org/api_docs/python/tf/identity)\n",
    "\n",
    "Return the outputs and final_state state in the following tuple `(Outputs, FinalState)` "
   ]
  },
  {
   "cell_type": "code",
   "execution_count": 11,
   "metadata": {
    "collapsed": false,
    "deletable": true,
    "editable": true
   },
   "outputs": [
    {
     "name": "stdout",
     "output_type": "stream",
     "text": [
      "Tests Passed\n"
     ]
    }
   ],
   "source": [
    "def build_rnn(cell, inputs):\n",
    "    \"\"\"\n",
    "    Create a RNN using a RNN Cell\n",
    "    :param cell: RNN Cell\n",
    "    :param inputs: Input text data\n",
    "    :return: Tuple (Outputs, Final State)\n",
    "    \"\"\"\n",
    "    # TODO: Implement Function\n",
    "    initial_state = cell.zero_state(tf.shape(inputs)[0], tf.float32)\n",
    "    outputs, state = tf.nn.dynamic_rnn(cell, inputs, initial_state=initial_state)\n",
    "    final_state = tf.identity(state, name='final_state')\n",
    "    \n",
    "    return outputs, final_state\n",
    "\n",
    "\n",
    "\"\"\"\n",
    "DON'T MODIFY ANYTHING IN THIS CELL THAT IS BELOW THIS LINE\n",
    "\"\"\"\n",
    "tests.test_build_rnn(build_rnn)"
   ]
  },
  {
   "cell_type": "markdown",
   "metadata": {
    "deletable": true,
    "editable": true
   },
   "source": [
    "### Build the Neural Network\n",
    "Apply the functions you implemented above to:\n",
    "- Apply embedding to `input_data` using your `get_embed(input_data, vocab_size, embed_dim)` function.\n",
    "- Build RNN using `cell` and your `build_rnn(cell, inputs)` function.\n",
    "- Apply a fully connected layer with a linear activation and `vocab_size` as the number of outputs.\n",
    "\n",
    "Return the logits and final state in the following tuple (Logits, FinalState) "
   ]
  },
  {
   "cell_type": "code",
   "execution_count": 12,
   "metadata": {
    "collapsed": false,
    "deletable": true,
    "editable": true
   },
   "outputs": [
    {
     "name": "stdout",
     "output_type": "stream",
     "text": [
      "Tests Passed\n"
     ]
    }
   ],
   "source": [
    "def build_nn(cell, rnn_size, input_data, vocab_size, embed_dim):\n",
    "    \"\"\"\n",
    "    Build part of the neural network\n",
    "    :param cell: RNN cell\n",
    "    :param rnn_size: Size of rnns\n",
    "    :param input_data: Input data\n",
    "    :param vocab_size: Vocabulary size\n",
    "    :param embed_dim: Number of embedding dimensions\n",
    "    :return: Tuple (Logits, FinalState)\n",
    "    \"\"\"\n",
    "    # TODO: Implement Function\n",
    "    embed = get_embed(input_data, vocab_size, embed_dim)\n",
    "    outputs, final_state = build_rnn(cell, embed)\n",
    "    \n",
    "    logits = tf.contrib.layers.fully_connected(outputs, vocab_size, activation_fn=None)\n",
    "    \n",
    "    return logits, final_state\n",
    "\n",
    "\n",
    "\"\"\"\n",
    "DON'T MODIFY ANYTHING IN THIS CELL THAT IS BELOW THIS LINE\n",
    "\"\"\"\n",
    "tests.test_build_nn(build_nn)"
   ]
  },
  {
   "cell_type": "markdown",
   "metadata": {
    "deletable": true,
    "editable": true
   },
   "source": [
    "### Batches\n",
    "Implement `get_batches` to create batches of input and targets using `int_text`.  The batches should be a Numpy array with the shape `(number of batches, 2, batch size, sequence length)`. Each batch contains two elements:\n",
    "- The first element is a single batch of **input** with the shape `[batch size, sequence length]`\n",
    "- The second element is a single batch of **targets** with the shape `[batch size, sequence length]`\n",
    "\n",
    "If you can't fill the last batch with enough data, drop the last batch.\n",
    "\n",
    "For exmple, `get_batches([1, 2, 3, 4, 5, 6, 7, 8, 9, 10, 11, 12, 13, 14, 15, 16, 17, 18, 19, 20], 3, 2)` would return a Numpy array of the following:\n",
    "```\n",
    "[\n",
    "  # First Batch\n",
    "  [\n",
    "    # Batch of Input\n",
    "    [[ 1  2], [ 7  8], [13 14]]\n",
    "    # Batch of targets\n",
    "    [[ 2  3], [ 8  9], [14 15]]\n",
    "  ]\n",
    "\n",
    "  # Second Batch\n",
    "  [\n",
    "    # Batch of Input\n",
    "    [[ 3  4], [ 9 10], [15 16]]\n",
    "    # Batch of targets\n",
    "    [[ 4  5], [10 11], [16 17]]\n",
    "  ]\n",
    "\n",
    "  # Third Batch\n",
    "  [\n",
    "    # Batch of Input\n",
    "    [[ 5  6], [11 12], [17 18]]\n",
    "    # Batch of targets\n",
    "    [[ 6  7], [12 13], [18  1]]\n",
    "  ]\n",
    "]\n",
    "```\n",
    "\n",
    "Notice that the last target value in the last batch is the first input value of the first batch. In this case, `1`. This is a common technique used when creating sequence batches, although it is rather unintuitive."
   ]
  },
  {
   "cell_type": "code",
   "execution_count": 13,
   "metadata": {
    "collapsed": false,
    "deletable": true,
    "editable": true
   },
   "outputs": [
    {
     "name": "stdout",
     "output_type": "stream",
     "text": [
      "Tests Passed\n"
     ]
    }
   ],
   "source": [
    "def get_batches(int_text, batch_size, seq_length):\n",
    "    \"\"\"\n",
    "    Return batches of input and target\n",
    "    :param int_text: Text with the words replaced by their ids\n",
    "    :param batch_size: The size of batch\n",
    "    :param seq_length: The length of sequence\n",
    "    :return: Batches as a Numpy array\n",
    "    \"\"\"\n",
    "    # TODO: Implement Function\n",
    "    n_batches = len(int_text) // (batch_size * seq_length)\n",
    "\n",
    "    x = np.array(int_text[: n_batches * batch_size * seq_length])\n",
    "    y = np.array(int_text[1: n_batches * batch_size * seq_length] + int_text[: 1])\n",
    "    \n",
    "    x_batches = np.split(x.reshape(batch_size, -1), n_batches, 1)\n",
    "    y_batches = np.split(y.reshape(batch_size, -1), n_batches, 1)\n",
    "    \n",
    "    batches = list(zip(x_batches, y_batches))\n",
    "    \n",
    "    \"\"\"\n",
    "    x = int_text[: n_batches * batch_size * seq_length]\n",
    "    y = x[1:] + x[: 1]\n",
    "    \n",
    "    batches = list()\n",
    "    for i in range(n_batches):\n",
    "        xx, yy = list(), list()\n",
    "        for j in range(batch_size):\n",
    "            pos = i * seq_length + j * seq_length * n_batches\n",
    "            xx.append(x[pos: pos + seq_length])\n",
    "            yy.append(y[pos: pos + seq_length])\n",
    "            \n",
    "        batches.append([xx, yy])\n",
    "    \"\"\" \n",
    "    \n",
    "    return np.array(batches)\n",
    "\n",
    "\n",
    "\"\"\"\n",
    "DON'T MODIFY ANYTHING IN THIS CELL THAT IS BELOW THIS LINE\n",
    "\"\"\"\n",
    "tests.test_get_batches(get_batches)"
   ]
  },
  {
   "cell_type": "markdown",
   "metadata": {
    "deletable": true,
    "editable": true
   },
   "source": [
    "## Neural Network Training\n",
    "### Hyperparameters\n",
    "Tune the following parameters:\n",
    "\n",
    "- Set `num_epochs` to the number of epochs.\n",
    "- Set `batch_size` to the batch size.\n",
    "- Set `rnn_size` to the size of the RNNs.\n",
    "- Set `embed_dim` to the size of the embedding.\n",
    "- Set `seq_length` to the length of sequence.\n",
    "- Set `learning_rate` to the learning rate.\n",
    "- Set `show_every_n_batches` to the number of batches the neural network should print progress."
   ]
  },
  {
   "cell_type": "code",
   "execution_count": 14,
   "metadata": {
    "collapsed": true,
    "deletable": true,
    "editable": true
   },
   "outputs": [],
   "source": [
    "# Number of Epochs\n",
    "num_epochs = 250\n",
    "# Batch Size\n",
    "batch_size = 128\n",
    "# RNN Size\n",
    "rnn_size = 256\n",
    "# Embedding Dimension Size\n",
    "embed_dim = 256\n",
    "# Sequence Length\n",
    "seq_length = 12\n",
    "# Learning Rate\n",
    "learning_rate = 0.001\n",
    "# Show stats for every n number of batches\n",
    "show_every_n_batches = 20\n",
    "\n",
    "\"\"\"\n",
    "DON'T MODIFY ANYTHING IN THIS CELL THAT IS BELOW THIS LINE\n",
    "\"\"\"\n",
    "save_dir = './save'"
   ]
  },
  {
   "cell_type": "markdown",
   "metadata": {
    "deletable": true,
    "editable": true
   },
   "source": [
    "### Build the Graph\n",
    "Build the graph using the neural network you implemented."
   ]
  },
  {
   "cell_type": "code",
   "execution_count": 15,
   "metadata": {
    "collapsed": false,
    "deletable": true,
    "editable": true
   },
   "outputs": [],
   "source": [
    "\"\"\"\n",
    "DON'T MODIFY ANYTHING IN THIS CELL\n",
    "\"\"\"\n",
    "from tensorflow.contrib import seq2seq\n",
    "\n",
    "train_graph = tf.Graph()\n",
    "with train_graph.as_default():\n",
    "    vocab_size = len(int_to_vocab)\n",
    "    input_text, targets, lr = get_inputs()\n",
    "    input_data_shape = tf.shape(input_text)\n",
    "    cell, initial_state = get_init_cell(input_data_shape[0], rnn_size)\n",
    "    logits, final_state = build_nn(cell, rnn_size, input_text, vocab_size, embed_dim)\n",
    "\n",
    "    # Probabilities for generating words\n",
    "    probs = tf.nn.softmax(logits, name='probs')\n",
    "\n",
    "    # Loss function\n",
    "    cost = seq2seq.sequence_loss(\n",
    "        logits,\n",
    "        targets,\n",
    "        tf.ones([input_data_shape[0], input_data_shape[1]]))\n",
    "\n",
    "    # Optimizer\n",
    "    optimizer = tf.train.AdamOptimizer(lr)\n",
    "\n",
    "    # Gradient Clipping\n",
    "    gradients = optimizer.compute_gradients(cost)\n",
    "    capped_gradients = [(tf.clip_by_value(grad, -1., 1.), var) for grad, var in gradients if grad is not None]\n",
    "    train_op = optimizer.apply_gradients(capped_gradients)"
   ]
  },
  {
   "cell_type": "markdown",
   "metadata": {
    "deletable": true,
    "editable": true
   },
   "source": [
    "## Train\n",
    "Train the neural network on the preprocessed data.  If you have a hard time getting a good loss, check the [forms](https://discussions.udacity.com/) to see if anyone is having the same problem."
   ]
  },
  {
   "cell_type": "code",
   "execution_count": 16,
   "metadata": {
    "collapsed": false,
    "deletable": true,
    "editable": true
   },
   "outputs": [
    {
     "name": "stdout",
     "output_type": "stream",
     "text": [
      "Epoch   0 Batch    0/44   train_loss = 8.822\n",
      "Epoch   0 Batch   20/44   train_loss = 6.426\n",
      "Epoch   0 Batch   40/44   train_loss = 6.412\n",
      "Epoch   1 Batch   16/44   train_loss = 6.126\n",
      "Epoch   1 Batch   36/44   train_loss = 6.190\n",
      "Epoch   2 Batch   12/44   train_loss = 6.027\n",
      "Epoch   2 Batch   32/44   train_loss = 5.988\n",
      "Epoch   3 Batch    8/44   train_loss = 6.064\n",
      "Epoch   3 Batch   28/44   train_loss = 6.097\n",
      "Epoch   4 Batch    4/44   train_loss = 5.974\n",
      "Epoch   4 Batch   24/44   train_loss = 6.003\n",
      "Epoch   5 Batch    0/44   train_loss = 5.894\n",
      "Epoch   5 Batch   20/44   train_loss = 5.951\n",
      "Epoch   5 Batch   40/44   train_loss = 5.961\n",
      "Epoch   6 Batch   16/44   train_loss = 5.983\n",
      "Epoch   6 Batch   36/44   train_loss = 5.967\n",
      "Epoch   7 Batch   12/44   train_loss = 5.830\n",
      "Epoch   7 Batch   32/44   train_loss = 5.791\n",
      "Epoch   8 Batch    8/44   train_loss = 5.833\n",
      "Epoch   8 Batch   28/44   train_loss = 5.888\n",
      "Epoch   9 Batch    4/44   train_loss = 5.732\n",
      "Epoch   9 Batch   24/44   train_loss = 5.773\n",
      "Epoch  10 Batch    0/44   train_loss = 5.662\n",
      "Epoch  10 Batch   20/44   train_loss = 5.732\n",
      "Epoch  10 Batch   40/44   train_loss = 5.734\n",
      "Epoch  11 Batch   16/44   train_loss = 5.771\n",
      "Epoch  11 Batch   36/44   train_loss = 5.752\n",
      "Epoch  12 Batch   12/44   train_loss = 5.631\n",
      "Epoch  12 Batch   32/44   train_loss = 5.584\n",
      "Epoch  13 Batch    8/44   train_loss = 5.630\n",
      "Epoch  13 Batch   28/44   train_loss = 5.669\n",
      "Epoch  14 Batch    4/44   train_loss = 5.510\n",
      "Epoch  14 Batch   24/44   train_loss = 5.544\n",
      "Epoch  15 Batch    0/44   train_loss = 5.405\n",
      "Epoch  15 Batch   20/44   train_loss = 5.451\n",
      "Epoch  15 Batch   40/44   train_loss = 5.451\n",
      "Epoch  16 Batch   16/44   train_loss = 5.463\n",
      "Epoch  16 Batch   36/44   train_loss = 5.406\n",
      "Epoch  17 Batch   12/44   train_loss = 5.241\n",
      "Epoch  17 Batch   32/44   train_loss = 5.161\n",
      "Epoch  18 Batch    8/44   train_loss = 5.160\n",
      "Epoch  18 Batch   28/44   train_loss = 5.164\n",
      "Epoch  19 Batch    4/44   train_loss = 4.977\n",
      "Epoch  19 Batch   24/44   train_loss = 5.028\n",
      "Epoch  20 Batch    0/44   train_loss = 4.872\n",
      "Epoch  20 Batch   20/44   train_loss = 4.922\n",
      "Epoch  20 Batch   40/44   train_loss = 4.965\n",
      "Epoch  21 Batch   16/44   train_loss = 4.963\n",
      "Epoch  21 Batch   36/44   train_loss = 4.939\n",
      "Epoch  22 Batch   12/44   train_loss = 4.775\n",
      "Epoch  22 Batch   32/44   train_loss = 4.743\n",
      "Epoch  23 Batch    8/44   train_loss = 4.733\n",
      "Epoch  23 Batch   28/44   train_loss = 4.766\n",
      "Epoch  24 Batch    4/44   train_loss = 4.600\n",
      "Epoch  24 Batch   24/44   train_loss = 4.670\n",
      "Epoch  25 Batch    0/44   train_loss = 4.539\n",
      "Epoch  25 Batch   20/44   train_loss = 4.582\n",
      "Epoch  25 Batch   40/44   train_loss = 4.634\n",
      "Epoch  26 Batch   16/44   train_loss = 4.622\n",
      "Epoch  26 Batch   36/44   train_loss = 4.640\n",
      "Epoch  27 Batch   12/44   train_loss = 4.487\n",
      "Epoch  27 Batch   32/44   train_loss = 4.450\n",
      "Epoch  28 Batch    8/44   train_loss = 4.444\n",
      "Epoch  28 Batch   28/44   train_loss = 4.499\n",
      "Epoch  29 Batch    4/44   train_loss = 4.323\n",
      "Epoch  29 Batch   24/44   train_loss = 4.403\n",
      "Epoch  30 Batch    0/44   train_loss = 4.264\n",
      "Epoch  30 Batch   20/44   train_loss = 4.320\n",
      "Epoch  30 Batch   40/44   train_loss = 4.374\n",
      "Epoch  31 Batch   16/44   train_loss = 4.352\n",
      "Epoch  31 Batch   36/44   train_loss = 4.386\n",
      "Epoch  32 Batch   12/44   train_loss = 4.244\n",
      "Epoch  32 Batch   32/44   train_loss = 4.228\n",
      "Epoch  33 Batch    8/44   train_loss = 4.203\n",
      "Epoch  33 Batch   28/44   train_loss = 4.266\n",
      "Epoch  34 Batch    4/44   train_loss = 4.117\n",
      "Epoch  34 Batch   24/44   train_loss = 4.212\n",
      "Epoch  35 Batch    0/44   train_loss = 4.075\n",
      "Epoch  35 Batch   20/44   train_loss = 4.099\n",
      "Epoch  35 Batch   40/44   train_loss = 4.160\n",
      "Epoch  36 Batch   16/44   train_loss = 4.120\n",
      "Epoch  36 Batch   36/44   train_loss = 4.168\n",
      "Epoch  37 Batch   12/44   train_loss = 4.029\n",
      "Epoch  37 Batch   32/44   train_loss = 3.984\n",
      "Epoch  38 Batch    8/44   train_loss = 3.960\n",
      "Epoch  38 Batch   28/44   train_loss = 3.981\n",
      "Epoch  39 Batch    4/44   train_loss = 3.861\n",
      "Epoch  39 Batch   24/44   train_loss = 3.931\n",
      "Epoch  40 Batch    0/44   train_loss = 3.817\n",
      "Epoch  40 Batch   20/44   train_loss = 3.861\n",
      "Epoch  40 Batch   40/44   train_loss = 3.917\n",
      "Epoch  41 Batch   16/44   train_loss = 3.886\n",
      "Epoch  41 Batch   36/44   train_loss = 3.936\n",
      "Epoch  42 Batch   12/44   train_loss = 3.810\n",
      "Epoch  42 Batch   32/44   train_loss = 3.780\n",
      "Epoch  43 Batch    8/44   train_loss = 3.734\n",
      "Epoch  43 Batch   28/44   train_loss = 3.763\n",
      "Epoch  44 Batch    4/44   train_loss = 3.678\n",
      "Epoch  44 Batch   24/44   train_loss = 3.714\n",
      "Epoch  45 Batch    0/44   train_loss = 3.635\n",
      "Epoch  45 Batch   20/44   train_loss = 3.684\n",
      "Epoch  45 Batch   40/44   train_loss = 3.707\n",
      "Epoch  46 Batch   16/44   train_loss = 3.753\n",
      "Epoch  46 Batch   36/44   train_loss = 3.770\n",
      "Epoch  47 Batch   12/44   train_loss = 3.643\n",
      "Epoch  47 Batch   32/44   train_loss = 3.647\n",
      "Epoch  48 Batch    8/44   train_loss = 3.536\n",
      "Epoch  48 Batch   28/44   train_loss = 3.573\n",
      "Epoch  49 Batch    4/44   train_loss = 3.464\n",
      "Epoch  49 Batch   24/44   train_loss = 3.513\n",
      "Epoch  50 Batch    0/44   train_loss = 3.428\n",
      "Epoch  50 Batch   20/44   train_loss = 3.500\n",
      "Epoch  50 Batch   40/44   train_loss = 3.499\n",
      "Epoch  51 Batch   16/44   train_loss = 3.457\n",
      "Epoch  51 Batch   36/44   train_loss = 3.553\n",
      "Epoch  52 Batch   12/44   train_loss = 3.427\n",
      "Epoch  52 Batch   32/44   train_loss = 3.420\n",
      "Epoch  53 Batch    8/44   train_loss = 3.357\n",
      "Epoch  53 Batch   28/44   train_loss = 3.370\n",
      "Epoch  54 Batch    4/44   train_loss = 3.309\n",
      "Epoch  54 Batch   24/44   train_loss = 3.386\n",
      "Epoch  55 Batch    0/44   train_loss = 3.277\n",
      "Epoch  55 Batch   20/44   train_loss = 3.280\n",
      "Epoch  55 Batch   40/44   train_loss = 3.330\n",
      "Epoch  56 Batch   16/44   train_loss = 3.307\n",
      "Epoch  56 Batch   36/44   train_loss = 3.365\n",
      "Epoch  57 Batch   12/44   train_loss = 3.285\n",
      "Epoch  57 Batch   32/44   train_loss = 3.226\n",
      "Epoch  58 Batch    8/44   train_loss = 3.212\n",
      "Epoch  58 Batch   28/44   train_loss = 3.190\n",
      "Epoch  59 Batch    4/44   train_loss = 3.118\n",
      "Epoch  59 Batch   24/44   train_loss = 3.146\n",
      "Epoch  60 Batch    0/44   train_loss = 3.124\n",
      "Epoch  60 Batch   20/44   train_loss = 3.137\n",
      "Epoch  60 Batch   40/44   train_loss = 3.134\n",
      "Epoch  61 Batch   16/44   train_loss = 3.107\n",
      "Epoch  61 Batch   36/44   train_loss = 3.177\n",
      "Epoch  62 Batch   12/44   train_loss = 3.075\n",
      "Epoch  62 Batch   32/44   train_loss = 3.048\n",
      "Epoch  63 Batch    8/44   train_loss = 2.979\n",
      "Epoch  63 Batch   28/44   train_loss = 2.932\n",
      "Epoch  64 Batch    4/44   train_loss = 2.904\n",
      "Epoch  64 Batch   24/44   train_loss = 2.921\n",
      "Epoch  65 Batch    0/44   train_loss = 2.874\n",
      "Epoch  65 Batch   20/44   train_loss = 2.920\n",
      "Epoch  65 Batch   40/44   train_loss = 2.904\n",
      "Epoch  66 Batch   16/44   train_loss = 2.884\n",
      "Epoch  66 Batch   36/44   train_loss = 2.938\n",
      "Epoch  67 Batch   12/44   train_loss = 2.884\n",
      "Epoch  67 Batch   32/44   train_loss = 2.820\n",
      "Epoch  68 Batch    8/44   train_loss = 2.786\n",
      "Epoch  68 Batch   28/44   train_loss = 2.753\n",
      "Epoch  69 Batch    4/44   train_loss = 2.771\n",
      "Epoch  69 Batch   24/44   train_loss = 2.780\n",
      "Epoch  70 Batch    0/44   train_loss = 2.696\n",
      "Epoch  70 Batch   20/44   train_loss = 2.734\n",
      "Epoch  70 Batch   40/44   train_loss = 2.749\n",
      "Epoch  71 Batch   16/44   train_loss = 2.740\n",
      "Epoch  71 Batch   36/44   train_loss = 2.831\n",
      "Epoch  72 Batch   12/44   train_loss = 2.733\n",
      "Epoch  72 Batch   32/44   train_loss = 2.688\n",
      "Epoch  73 Batch    8/44   train_loss = 2.635\n",
      "Epoch  73 Batch   28/44   train_loss = 2.596\n",
      "Epoch  74 Batch    4/44   train_loss = 2.603\n",
      "Epoch  74 Batch   24/44   train_loss = 2.638\n",
      "Epoch  75 Batch    0/44   train_loss = 2.552\n",
      "Epoch  75 Batch   20/44   train_loss = 2.589\n",
      "Epoch  75 Batch   40/44   train_loss = 2.604\n",
      "Epoch  76 Batch   16/44   train_loss = 2.548\n",
      "Epoch  76 Batch   36/44   train_loss = 2.628\n",
      "Epoch  77 Batch   12/44   train_loss = 2.586\n",
      "Epoch  77 Batch   32/44   train_loss = 2.571\n",
      "Epoch  78 Batch    8/44   train_loss = 2.436\n",
      "Epoch  78 Batch   28/44   train_loss = 2.450\n",
      "Epoch  79 Batch    4/44   train_loss = 2.379\n",
      "Epoch  79 Batch   24/44   train_loss = 2.405\n",
      "Epoch  80 Batch    0/44   train_loss = 2.384\n",
      "Epoch  80 Batch   20/44   train_loss = 2.377\n",
      "Epoch  80 Batch   40/44   train_loss = 2.399\n",
      "Epoch  81 Batch   16/44   train_loss = 2.340\n",
      "Epoch  81 Batch   36/44   train_loss = 2.438\n",
      "Epoch  82 Batch   12/44   train_loss = 2.391\n",
      "Epoch  82 Batch   32/44   train_loss = 2.339\n",
      "Epoch  83 Batch    8/44   train_loss = 2.252\n",
      "Epoch  83 Batch   28/44   train_loss = 2.238\n",
      "Epoch  84 Batch    4/44   train_loss = 2.297\n",
      "Epoch  84 Batch   24/44   train_loss = 2.273\n",
      "Epoch  85 Batch    0/44   train_loss = 2.186\n",
      "Epoch  85 Batch   20/44   train_loss = 2.199\n",
      "Epoch  85 Batch   40/44   train_loss = 2.281\n",
      "Epoch  86 Batch   16/44   train_loss = 2.173\n",
      "Epoch  86 Batch   36/44   train_loss = 2.254\n",
      "Epoch  87 Batch   12/44   train_loss = 2.221\n",
      "Epoch  87 Batch   32/44   train_loss = 2.193\n",
      "Epoch  88 Batch    8/44   train_loss = 2.030\n",
      "Epoch  88 Batch   28/44   train_loss = 2.022\n",
      "Epoch  89 Batch    4/44   train_loss = 2.034\n",
      "Epoch  89 Batch   24/44   train_loss = 2.032\n",
      "Epoch  90 Batch    0/44   train_loss = 1.997\n",
      "Epoch  90 Batch   20/44   train_loss = 1.966\n",
      "Epoch  90 Batch   40/44   train_loss = 2.028\n",
      "Epoch  91 Batch   16/44   train_loss = 1.954\n",
      "Epoch  91 Batch   36/44   train_loss = 2.033\n",
      "Epoch  92 Batch   12/44   train_loss = 1.991\n",
      "Epoch  92 Batch   32/44   train_loss = 1.954\n",
      "Epoch  93 Batch    8/44   train_loss = 1.845\n",
      "Epoch  93 Batch   28/44   train_loss = 1.837\n",
      "Epoch  94 Batch    4/44   train_loss = 1.875\n",
      "Epoch  94 Batch   24/44   train_loss = 1.886\n",
      "Epoch  95 Batch    0/44   train_loss = 1.837\n",
      "Epoch  95 Batch   20/44   train_loss = 1.813\n",
      "Epoch  95 Batch   40/44   train_loss = 1.888\n",
      "Epoch  96 Batch   16/44   train_loss = 1.795\n",
      "Epoch  96 Batch   36/44   train_loss = 1.914\n",
      "Epoch  97 Batch   12/44   train_loss = 1.868\n",
      "Epoch  97 Batch   32/44   train_loss = 1.847\n",
      "Epoch  98 Batch    8/44   train_loss = 1.720\n",
      "Epoch  98 Batch   28/44   train_loss = 1.697\n",
      "Epoch  99 Batch    4/44   train_loss = 1.716\n",
      "Epoch  99 Batch   24/44   train_loss = 1.717\n",
      "Epoch 100 Batch    0/44   train_loss = 1.669\n",
      "Epoch 100 Batch   20/44   train_loss = 1.660\n",
      "Epoch 100 Batch   40/44   train_loss = 1.749\n",
      "Epoch 101 Batch   16/44   train_loss = 1.699\n",
      "Epoch 101 Batch   36/44   train_loss = 1.697\n",
      "Epoch 102 Batch   12/44   train_loss = 1.769\n",
      "Epoch 102 Batch   32/44   train_loss = 1.682\n",
      "Epoch 103 Batch    8/44   train_loss = 1.562\n",
      "Epoch 103 Batch   28/44   train_loss = 1.598\n",
      "Epoch 104 Batch    4/44   train_loss = 1.611\n",
      "Epoch 104 Batch   24/44   train_loss = 1.623\n",
      "Epoch 105 Batch    0/44   train_loss = 1.594\n",
      "Epoch 105 Batch   20/44   train_loss = 1.575\n",
      "Epoch 105 Batch   40/44   train_loss = 1.597\n",
      "Epoch 106 Batch   16/44   train_loss = 1.602\n",
      "Epoch 106 Batch   36/44   train_loss = 1.614\n",
      "Epoch 107 Batch   12/44   train_loss = 1.643\n",
      "Epoch 107 Batch   32/44   train_loss = 1.601\n",
      "Epoch 108 Batch    8/44   train_loss = 1.459\n",
      "Epoch 108 Batch   28/44   train_loss = 1.491\n",
      "Epoch 109 Batch    4/44   train_loss = 1.511\n",
      "Epoch 109 Batch   24/44   train_loss = 1.494\n",
      "Epoch 110 Batch    0/44   train_loss = 1.431\n",
      "Epoch 110 Batch   20/44   train_loss = 1.428\n",
      "Epoch 110 Batch   40/44   train_loss = 1.448\n",
      "Epoch 111 Batch   16/44   train_loss = 1.453\n",
      "Epoch 111 Batch   36/44   train_loss = 1.425\n",
      "Epoch 112 Batch   12/44   train_loss = 1.507\n",
      "Epoch 112 Batch   32/44   train_loss = 1.440\n",
      "Epoch 113 Batch    8/44   train_loss = 1.282\n",
      "Epoch 113 Batch   28/44   train_loss = 1.318\n",
      "Epoch 114 Batch    4/44   train_loss = 1.327\n",
      "Epoch 114 Batch   24/44   train_loss = 1.349\n",
      "Epoch 115 Batch    0/44   train_loss = 1.347\n",
      "Epoch 115 Batch   20/44   train_loss = 1.295\n",
      "Epoch 115 Batch   40/44   train_loss = 1.295\n",
      "Epoch 116 Batch   16/44   train_loss = 1.341\n",
      "Epoch 116 Batch   36/44   train_loss = 1.336\n",
      "Epoch 117 Batch   12/44   train_loss = 1.365\n",
      "Epoch 117 Batch   32/44   train_loss = 1.328\n",
      "Epoch 118 Batch    8/44   train_loss = 1.182\n",
      "Epoch 118 Batch   28/44   train_loss = 1.218\n",
      "Epoch 119 Batch    4/44   train_loss = 1.255\n",
      "Epoch 119 Batch   24/44   train_loss = 1.239\n",
      "Epoch 120 Batch    0/44   train_loss = 1.207\n",
      "Epoch 120 Batch   20/44   train_loss = 1.196\n",
      "Epoch 120 Batch   40/44   train_loss = 1.207\n",
      "Epoch 121 Batch   16/44   train_loss = 1.186\n",
      "Epoch 121 Batch   36/44   train_loss = 1.248\n",
      "Epoch 122 Batch   12/44   train_loss = 1.296\n",
      "Epoch 122 Batch   32/44   train_loss = 1.218\n",
      "Epoch 123 Batch    8/44   train_loss = 1.080\n",
      "Epoch 123 Batch   28/44   train_loss = 1.175\n",
      "Epoch 124 Batch    4/44   train_loss = 1.125\n",
      "Epoch 124 Batch   24/44   train_loss = 1.140\n",
      "Epoch 125 Batch    0/44   train_loss = 1.125\n",
      "Epoch 125 Batch   20/44   train_loss = 1.118\n",
      "Epoch 125 Batch   40/44   train_loss = 1.125\n",
      "Epoch 126 Batch   16/44   train_loss = 1.139\n",
      "Epoch 126 Batch   36/44   train_loss = 1.124\n",
      "Epoch 127 Batch   12/44   train_loss = 1.183\n",
      "Epoch 127 Batch   32/44   train_loss = 1.123\n",
      "Epoch 128 Batch    8/44   train_loss = 0.960\n",
      "Epoch 128 Batch   28/44   train_loss = 0.987\n",
      "Epoch 129 Batch    4/44   train_loss = 1.035\n",
      "Epoch 129 Batch   24/44   train_loss = 1.055\n",
      "Epoch 130 Batch    0/44   train_loss = 1.033\n",
      "Epoch 130 Batch   20/44   train_loss = 0.976\n",
      "Epoch 130 Batch   40/44   train_loss = 0.987\n",
      "Epoch 131 Batch   16/44   train_loss = 1.029\n",
      "Epoch 131 Batch   36/44   train_loss = 0.990\n",
      "Epoch 132 Batch   12/44   train_loss = 1.077\n",
      "Epoch 132 Batch   32/44   train_loss = 1.034\n",
      "Epoch 133 Batch    8/44   train_loss = 0.868\n",
      "Epoch 133 Batch   28/44   train_loss = 0.929\n",
      "Epoch 134 Batch    4/44   train_loss = 0.979\n",
      "Epoch 134 Batch   24/44   train_loss = 0.942\n",
      "Epoch 135 Batch    0/44   train_loss = 0.903\n",
      "Epoch 135 Batch   20/44   train_loss = 0.925\n",
      "Epoch 135 Batch   40/44   train_loss = 0.921\n",
      "Epoch 136 Batch   16/44   train_loss = 0.914\n",
      "Epoch 136 Batch   36/44   train_loss = 0.907\n",
      "Epoch 137 Batch   12/44   train_loss = 1.007\n",
      "Epoch 137 Batch   32/44   train_loss = 0.938\n",
      "Epoch 138 Batch    8/44   train_loss = 0.795\n",
      "Epoch 138 Batch   28/44   train_loss = 0.848\n",
      "Epoch 139 Batch    4/44   train_loss = 0.877\n",
      "Epoch 139 Batch   24/44   train_loss = 0.861\n",
      "Epoch 140 Batch    0/44   train_loss = 0.822\n",
      "Epoch 140 Batch   20/44   train_loss = 0.801\n",
      "Epoch 140 Batch   40/44   train_loss = 0.820\n",
      "Epoch 141 Batch   16/44   train_loss = 0.836\n",
      "Epoch 141 Batch   36/44   train_loss = 0.812\n",
      "Epoch 142 Batch   12/44   train_loss = 0.928\n",
      "Epoch 142 Batch   32/44   train_loss = 0.842\n",
      "Epoch 143 Batch    8/44   train_loss = 0.718\n",
      "Epoch 143 Batch   28/44   train_loss = 0.749\n",
      "Epoch 144 Batch    4/44   train_loss = 0.795\n",
      "Epoch 144 Batch   24/44   train_loss = 0.801\n",
      "Epoch 145 Batch    0/44   train_loss = 0.746\n",
      "Epoch 145 Batch   20/44   train_loss = 0.735\n",
      "Epoch 145 Batch   40/44   train_loss = 0.762\n",
      "Epoch 146 Batch   16/44   train_loss = 0.786\n",
      "Epoch 146 Batch   36/44   train_loss = 0.752\n",
      "Epoch 147 Batch   12/44   train_loss = 0.864\n",
      "Epoch 147 Batch   32/44   train_loss = 0.803\n",
      "Epoch 148 Batch    8/44   train_loss = 0.675\n",
      "Epoch 148 Batch   28/44   train_loss = 0.712\n",
      "Epoch 149 Batch    4/44   train_loss = 0.747\n",
      "Epoch 149 Batch   24/44   train_loss = 0.722\n",
      "Epoch 150 Batch    0/44   train_loss = 0.718\n",
      "Epoch 150 Batch   20/44   train_loss = 0.675\n",
      "Epoch 150 Batch   40/44   train_loss = 0.708\n",
      "Epoch 151 Batch   16/44   train_loss = 0.745\n",
      "Epoch 151 Batch   36/44   train_loss = 0.691\n",
      "Epoch 152 Batch   12/44   train_loss = 0.828\n",
      "Epoch 152 Batch   32/44   train_loss = 0.725\n",
      "Epoch 153 Batch    8/44   train_loss = 0.591\n",
      "Epoch 153 Batch   28/44   train_loss = 0.661\n",
      "Epoch 154 Batch    4/44   train_loss = 0.711\n",
      "Epoch 154 Batch   24/44   train_loss = 0.669\n",
      "Epoch 155 Batch    0/44   train_loss = 0.663\n",
      "Epoch 155 Batch   20/44   train_loss = 0.675\n",
      "Epoch 155 Batch   40/44   train_loss = 0.648\n",
      "Epoch 156 Batch   16/44   train_loss = 0.676\n",
      "Epoch 156 Batch   36/44   train_loss = 0.657\n",
      "Epoch 157 Batch   12/44   train_loss = 0.787\n",
      "Epoch 157 Batch   32/44   train_loss = 0.700\n",
      "Epoch 158 Batch    8/44   train_loss = 0.558\n",
      "Epoch 158 Batch   28/44   train_loss = 0.636\n",
      "Epoch 159 Batch    4/44   train_loss = 0.701\n",
      "Epoch 159 Batch   24/44   train_loss = 0.636\n",
      "Epoch 160 Batch    0/44   train_loss = 0.624\n",
      "Epoch 160 Batch   20/44   train_loss = 0.609\n",
      "Epoch 160 Batch   40/44   train_loss = 0.603\n",
      "Epoch 161 Batch   16/44   train_loss = 0.640\n",
      "Epoch 161 Batch   36/44   train_loss = 0.608\n",
      "Epoch 162 Batch   12/44   train_loss = 0.701\n",
      "Epoch 162 Batch   32/44   train_loss = 0.657\n",
      "Epoch 163 Batch    8/44   train_loss = 0.538\n",
      "Epoch 163 Batch   28/44   train_loss = 0.562\n",
      "Epoch 164 Batch    4/44   train_loss = 0.587\n",
      "Epoch 164 Batch   24/44   train_loss = 0.606\n",
      "Epoch 165 Batch    0/44   train_loss = 0.561\n",
      "Epoch 165 Batch   20/44   train_loss = 0.539\n",
      "Epoch 165 Batch   40/44   train_loss = 0.563\n",
      "Epoch 166 Batch   16/44   train_loss = 0.597\n",
      "Epoch 166 Batch   36/44   train_loss = 0.550\n",
      "Epoch 167 Batch   12/44   train_loss = 0.646\n",
      "Epoch 167 Batch   32/44   train_loss = 0.601\n",
      "Epoch 168 Batch    8/44   train_loss = 0.485\n",
      "Epoch 168 Batch   28/44   train_loss = 0.528\n",
      "Epoch 169 Batch    4/44   train_loss = 0.547\n",
      "Epoch 169 Batch   24/44   train_loss = 0.536\n",
      "Epoch 170 Batch    0/44   train_loss = 0.520\n",
      "Epoch 170 Batch   20/44   train_loss = 0.504\n",
      "Epoch 170 Batch   40/44   train_loss = 0.508\n",
      "Epoch 171 Batch   16/44   train_loss = 0.559\n",
      "Epoch 171 Batch   36/44   train_loss = 0.528\n",
      "Epoch 172 Batch   12/44   train_loss = 0.590\n",
      "Epoch 172 Batch   32/44   train_loss = 0.562\n",
      "Epoch 173 Batch    8/44   train_loss = 0.449\n",
      "Epoch 173 Batch   28/44   train_loss = 0.495\n",
      "Epoch 174 Batch    4/44   train_loss = 0.505\n",
      "Epoch 174 Batch   24/44   train_loss = 0.502\n",
      "Epoch 175 Batch    0/44   train_loss = 0.489\n",
      "Epoch 175 Batch   20/44   train_loss = 0.472\n",
      "Epoch 175 Batch   40/44   train_loss = 0.478\n",
      "Epoch 176 Batch   16/44   train_loss = 0.524\n",
      "Epoch 176 Batch   36/44   train_loss = 0.478\n",
      "Epoch 177 Batch   12/44   train_loss = 0.556\n",
      "Epoch 177 Batch   32/44   train_loss = 0.523\n",
      "Epoch 178 Batch    8/44   train_loss = 0.407\n",
      "Epoch 178 Batch   28/44   train_loss = 0.471\n",
      "Epoch 179 Batch    4/44   train_loss = 0.476\n",
      "Epoch 179 Batch   24/44   train_loss = 0.479\n",
      "Epoch 180 Batch    0/44   train_loss = 0.457\n",
      "Epoch 180 Batch   20/44   train_loss = 0.443\n",
      "Epoch 180 Batch   40/44   train_loss = 0.444\n",
      "Epoch 181 Batch   16/44   train_loss = 0.484\n",
      "Epoch 181 Batch   36/44   train_loss = 0.462\n",
      "Epoch 182 Batch   12/44   train_loss = 0.530\n",
      "Epoch 182 Batch   32/44   train_loss = 0.499\n",
      "Epoch 183 Batch    8/44   train_loss = 0.392\n",
      "Epoch 183 Batch   28/44   train_loss = 0.447\n",
      "Epoch 184 Batch    4/44   train_loss = 0.466\n",
      "Epoch 184 Batch   24/44   train_loss = 0.456\n",
      "Epoch 185 Batch    0/44   train_loss = 0.429\n",
      "Epoch 185 Batch   20/44   train_loss = 0.411\n",
      "Epoch 185 Batch   40/44   train_loss = 0.426\n",
      "Epoch 186 Batch   16/44   train_loss = 0.477\n",
      "Epoch 186 Batch   36/44   train_loss = 0.449\n",
      "Epoch 187 Batch   12/44   train_loss = 0.493\n",
      "Epoch 187 Batch   32/44   train_loss = 0.506\n",
      "Epoch 188 Batch    8/44   train_loss = 0.396\n",
      "Epoch 188 Batch   28/44   train_loss = 0.451\n",
      "Epoch 189 Batch    4/44   train_loss = 0.457\n",
      "Epoch 189 Batch   24/44   train_loss = 0.437\n",
      "Epoch 190 Batch    0/44   train_loss = 0.433\n",
      "Epoch 190 Batch   20/44   train_loss = 0.425\n",
      "Epoch 190 Batch   40/44   train_loss = 0.426\n",
      "Epoch 191 Batch   16/44   train_loss = 0.467\n",
      "Epoch 191 Batch   36/44   train_loss = 0.462\n",
      "Epoch 192 Batch   12/44   train_loss = 0.533\n",
      "Epoch 192 Batch   32/44   train_loss = 0.479\n",
      "Epoch 193 Batch    8/44   train_loss = 0.393\n",
      "Epoch 193 Batch   28/44   train_loss = 0.440\n",
      "Epoch 194 Batch    4/44   train_loss = 0.453\n",
      "Epoch 194 Batch   24/44   train_loss = 0.420\n",
      "Epoch 195 Batch    0/44   train_loss = 0.427\n",
      "Epoch 195 Batch   20/44   train_loss = 0.400\n",
      "Epoch 195 Batch   40/44   train_loss = 0.432\n",
      "Epoch 196 Batch   16/44   train_loss = 0.472\n",
      "Epoch 196 Batch   36/44   train_loss = 0.418\n",
      "Epoch 197 Batch   12/44   train_loss = 0.510\n",
      "Epoch 197 Batch   32/44   train_loss = 0.469\n",
      "Epoch 198 Batch    8/44   train_loss = 0.359\n",
      "Epoch 198 Batch   28/44   train_loss = 0.432\n",
      "Epoch 199 Batch    4/44   train_loss = 0.425\n",
      "Epoch 199 Batch   24/44   train_loss = 0.404\n",
      "Epoch 200 Batch    0/44   train_loss = 0.401\n",
      "Epoch 200 Batch   20/44   train_loss = 0.378\n",
      "Epoch 200 Batch   40/44   train_loss = 0.380\n",
      "Epoch 201 Batch   16/44   train_loss = 0.426\n",
      "Epoch 201 Batch   36/44   train_loss = 0.397\n",
      "Epoch 202 Batch   12/44   train_loss = 0.441\n",
      "Epoch 202 Batch   32/44   train_loss = 0.441\n",
      "Epoch 203 Batch    8/44   train_loss = 0.337\n",
      "Epoch 203 Batch   28/44   train_loss = 0.381\n",
      "Epoch 204 Batch    4/44   train_loss = 0.388\n",
      "Epoch 204 Batch   24/44   train_loss = 0.374\n",
      "Epoch 205 Batch    0/44   train_loss = 0.361\n",
      "Epoch 205 Batch   20/44   train_loss = 0.342\n",
      "Epoch 205 Batch   40/44   train_loss = 0.362\n",
      "Epoch 206 Batch   16/44   train_loss = 0.399\n",
      "Epoch 206 Batch   36/44   train_loss = 0.370\n",
      "Epoch 207 Batch   12/44   train_loss = 0.420\n",
      "Epoch 207 Batch   32/44   train_loss = 0.403\n",
      "Epoch 208 Batch    8/44   train_loss = 0.320\n",
      "Epoch 208 Batch   28/44   train_loss = 0.369\n",
      "Epoch 209 Batch    4/44   train_loss = 0.370\n",
      "Epoch 209 Batch   24/44   train_loss = 0.359\n",
      "Epoch 210 Batch    0/44   train_loss = 0.349\n",
      "Epoch 210 Batch   20/44   train_loss = 0.329\n",
      "Epoch 210 Batch   40/44   train_loss = 0.345\n",
      "Epoch 211 Batch   16/44   train_loss = 0.385\n",
      "Epoch 211 Batch   36/44   train_loss = 0.351\n",
      "Epoch 212 Batch   12/44   train_loss = 0.401\n",
      "Epoch 212 Batch   32/44   train_loss = 0.387\n",
      "Epoch 213 Batch    8/44   train_loss = 0.311\n",
      "Epoch 213 Batch   28/44   train_loss = 0.360\n",
      "Epoch 214 Batch    4/44   train_loss = 0.363\n",
      "Epoch 214 Batch   24/44   train_loss = 0.351\n",
      "Epoch 215 Batch    0/44   train_loss = 0.340\n",
      "Epoch 215 Batch   20/44   train_loss = 0.320\n",
      "Epoch 215 Batch   40/44   train_loss = 0.335\n",
      "Epoch 216 Batch   16/44   train_loss = 0.372\n",
      "Epoch 216 Batch   36/44   train_loss = 0.343\n",
      "Epoch 217 Batch   12/44   train_loss = 0.391\n",
      "Epoch 217 Batch   32/44   train_loss = 0.378\n",
      "Epoch 218 Batch    8/44   train_loss = 0.307\n",
      "Epoch 218 Batch   28/44   train_loss = 0.353\n",
      "Epoch 219 Batch    4/44   train_loss = 0.352\n",
      "Epoch 219 Batch   24/44   train_loss = 0.351\n",
      "Epoch 220 Batch    0/44   train_loss = 0.328\n",
      "Epoch 220 Batch   20/44   train_loss = 0.314\n",
      "Epoch 220 Batch   40/44   train_loss = 0.327\n",
      "Epoch 221 Batch   16/44   train_loss = 0.363\n",
      "Epoch 221 Batch   36/44   train_loss = 0.336\n",
      "Epoch 222 Batch   12/44   train_loss = 0.379\n",
      "Epoch 222 Batch   32/44   train_loss = 0.369\n",
      "Epoch 223 Batch    8/44   train_loss = 0.298\n",
      "Epoch 223 Batch   28/44   train_loss = 0.345\n",
      "Epoch 224 Batch    4/44   train_loss = 0.342\n",
      "Epoch 224 Batch   24/44   train_loss = 0.332\n",
      "Epoch 225 Batch    0/44   train_loss = 0.323\n",
      "Epoch 225 Batch   20/44   train_loss = 0.304\n",
      "Epoch 225 Batch   40/44   train_loss = 0.317\n",
      "Epoch 226 Batch   16/44   train_loss = 0.354\n",
      "Epoch 226 Batch   36/44   train_loss = 0.330\n",
      "Epoch 227 Batch   12/44   train_loss = 0.370\n",
      "Epoch 227 Batch   32/44   train_loss = 0.363\n",
      "Epoch 228 Batch    8/44   train_loss = 0.291\n",
      "Epoch 228 Batch   28/44   train_loss = 0.337\n",
      "Epoch 229 Batch    4/44   train_loss = 0.336\n",
      "Epoch 229 Batch   24/44   train_loss = 0.327\n",
      "Epoch 230 Batch    0/44   train_loss = 0.317\n",
      "Epoch 230 Batch   20/44   train_loss = 0.298\n",
      "Epoch 230 Batch   40/44   train_loss = 0.313\n",
      "Epoch 231 Batch   16/44   train_loss = 0.347\n",
      "Epoch 231 Batch   36/44   train_loss = 0.325\n",
      "Epoch 232 Batch   12/44   train_loss = 0.364\n",
      "Epoch 232 Batch   32/44   train_loss = 0.356\n",
      "Epoch 233 Batch    8/44   train_loss = 0.285\n",
      "Epoch 233 Batch   28/44   train_loss = 0.334\n",
      "Epoch 234 Batch    4/44   train_loss = 0.332\n",
      "Epoch 234 Batch   24/44   train_loss = 0.325\n",
      "Epoch 235 Batch    0/44   train_loss = 0.315\n",
      "Epoch 235 Batch   20/44   train_loss = 0.293\n",
      "Epoch 235 Batch   40/44   train_loss = 0.312\n",
      "Epoch 236 Batch   16/44   train_loss = 0.346\n",
      "Epoch 236 Batch   36/44   train_loss = 0.321\n",
      "Epoch 237 Batch   12/44   train_loss = 0.364\n",
      "Epoch 237 Batch   32/44   train_loss = 0.357\n",
      "Epoch 238 Batch    8/44   train_loss = 0.286\n",
      "Epoch 238 Batch   28/44   train_loss = 0.332\n",
      "Epoch 239 Batch    4/44   train_loss = 0.330\n",
      "Epoch 239 Batch   24/44   train_loss = 0.325\n",
      "Epoch 240 Batch    0/44   train_loss = 0.313\n",
      "Epoch 240 Batch   20/44   train_loss = 0.295\n",
      "Epoch 240 Batch   40/44   train_loss = 0.325\n",
      "Epoch 241 Batch   16/44   train_loss = 0.369\n",
      "Epoch 241 Batch   36/44   train_loss = 0.349\n",
      "Epoch 242 Batch   12/44   train_loss = 0.386\n",
      "Epoch 242 Batch   32/44   train_loss = 0.375\n",
      "Epoch 243 Batch    8/44   train_loss = 0.291\n",
      "Epoch 243 Batch   28/44   train_loss = 0.358\n",
      "Epoch 244 Batch    4/44   train_loss = 0.357\n",
      "Epoch 244 Batch   24/44   train_loss = 0.343\n",
      "Epoch 245 Batch    0/44   train_loss = 0.342\n",
      "Epoch 245 Batch   20/44   train_loss = 0.327\n",
      "Epoch 245 Batch   40/44   train_loss = 0.333\n",
      "Epoch 246 Batch   16/44   train_loss = 0.375\n",
      "Epoch 246 Batch   36/44   train_loss = 0.340\n",
      "Epoch 247 Batch   12/44   train_loss = 0.391\n",
      "Epoch 247 Batch   32/44   train_loss = 0.360\n",
      "Epoch 248 Batch    8/44   train_loss = 0.305\n",
      "Epoch 248 Batch   28/44   train_loss = 0.340\n",
      "Epoch 249 Batch    4/44   train_loss = 0.325\n",
      "Epoch 249 Batch   24/44   train_loss = 0.318\n",
      "Model Trained and Saved\n"
     ]
    }
   ],
   "source": [
    "\"\"\"\n",
    "DON'T MODIFY ANYTHING IN THIS CELL\n",
    "\"\"\"\n",
    "batches = get_batches(int_text, batch_size, seq_length)\n",
    "\n",
    "with tf.Session(graph=train_graph) as sess:\n",
    "    sess.run(tf.global_variables_initializer())\n",
    "\n",
    "    for epoch_i in range(num_epochs):\n",
    "        state = sess.run(initial_state, {input_text: batches[0][0]})\n",
    "\n",
    "        for batch_i, (x, y) in enumerate(batches):\n",
    "            feed = {\n",
    "                input_text: x,\n",
    "                targets: y,\n",
    "                initial_state: state,\n",
    "                lr: learning_rate}\n",
    "            train_loss, state, _ = sess.run([cost, final_state, train_op], feed)\n",
    "\n",
    "            # Show every <show_every_n_batches> batches\n",
    "            if (epoch_i * len(batches) + batch_i) % show_every_n_batches == 0:\n",
    "                print('Epoch {:>3} Batch {:>4}/{}   train_loss = {:.3f}'.format(\n",
    "                    epoch_i,\n",
    "                    batch_i,\n",
    "                    len(batches),\n",
    "                    train_loss))\n",
    "\n",
    "    # Save Model\n",
    "    saver = tf.train.Saver()\n",
    "    saver.save(sess, save_dir)\n",
    "    print('Model Trained and Saved')"
   ]
  },
  {
   "cell_type": "markdown",
   "metadata": {
    "deletable": true,
    "editable": true
   },
   "source": [
    "## Save Parameters\n",
    "Save `seq_length` and `save_dir` for generating a new TV script."
   ]
  },
  {
   "cell_type": "code",
   "execution_count": 17,
   "metadata": {
    "collapsed": false,
    "deletable": true,
    "editable": true
   },
   "outputs": [],
   "source": [
    "\"\"\"\n",
    "DON'T MODIFY ANYTHING IN THIS CELL\n",
    "\"\"\"\n",
    "# Save parameters for checkpoint\n",
    "helper.save_params((seq_length, save_dir))"
   ]
  },
  {
   "cell_type": "markdown",
   "metadata": {
    "deletable": true,
    "editable": true
   },
   "source": [
    "# Checkpoint"
   ]
  },
  {
   "cell_type": "code",
   "execution_count": 18,
   "metadata": {
    "collapsed": false,
    "deletable": true,
    "editable": true
   },
   "outputs": [],
   "source": [
    "\"\"\"\n",
    "DON'T MODIFY ANYTHING IN THIS CELL\n",
    "\"\"\"\n",
    "import tensorflow as tf\n",
    "import numpy as np\n",
    "import helper\n",
    "import problem_unittests as tests\n",
    "\n",
    "_, vocab_to_int, int_to_vocab, token_dict = helper.load_preprocess()\n",
    "seq_length, load_dir = helper.load_params()"
   ]
  },
  {
   "cell_type": "markdown",
   "metadata": {
    "deletable": true,
    "editable": true
   },
   "source": [
    "## Implement Generate Functions\n",
    "### Get Tensors\n",
    "Get tensors from `loaded_graph` using the function [`get_tensor_by_name()`](https://www.tensorflow.org/api_docs/python/tf/Graph#get_tensor_by_name).  Get the tensors using the following names:\n",
    "- \"input:0\"\n",
    "- \"initial_state:0\"\n",
    "- \"final_state:0\"\n",
    "- \"probs:0\"\n",
    "\n",
    "Return the tensors in the following tuple `(InputTensor, InitialStateTensor, FinalStateTensor, ProbsTensor)` "
   ]
  },
  {
   "cell_type": "code",
   "execution_count": 19,
   "metadata": {
    "collapsed": false,
    "deletable": true,
    "editable": true
   },
   "outputs": [
    {
     "name": "stdout",
     "output_type": "stream",
     "text": [
      "Tests Passed\n"
     ]
    }
   ],
   "source": [
    "def get_tensors(loaded_graph):\n",
    "    \"\"\"\n",
    "    Get input, initial state, final state, and probabilities tensor from <loaded_graph>\n",
    "    :param loaded_graph: TensorFlow graph loaded from file\n",
    "    :return: Tuple (InputTensor, InitialStateTensor, FinalStateTensor, ProbsTensor)\n",
    "    \"\"\"\n",
    "    # TODO: Implement Function\n",
    "    inputTensor = loaded_graph.get_tensor_by_name('input:0')\n",
    "    initialStateTensor = loaded_graph.get_tensor_by_name('initial_state:0')\n",
    "    finalStateTensor = loaded_graph.get_tensor_by_name('final_state:0')\n",
    "    probTensor = loaded_graph.get_tensor_by_name('probs:0')\n",
    "    return inputTensor, initialStateTensor, finalStateTensor, probTensor\n",
    "\n",
    "\n",
    "\"\"\"\n",
    "DON'T MODIFY ANYTHING IN THIS CELL THAT IS BELOW THIS LINE\n",
    "\"\"\"\n",
    "tests.test_get_tensors(get_tensors)"
   ]
  },
  {
   "cell_type": "markdown",
   "metadata": {
    "deletable": true,
    "editable": true
   },
   "source": [
    "### Choose Word\n",
    "Implement the `pick_word()` function to select the next word using `probabilities`."
   ]
  },
  {
   "cell_type": "code",
   "execution_count": 20,
   "metadata": {
    "collapsed": false,
    "deletable": true,
    "editable": true
   },
   "outputs": [
    {
     "name": "stdout",
     "output_type": "stream",
     "text": [
      "Tests Passed\n"
     ]
    }
   ],
   "source": [
    "def pick_word(probabilities, int_to_vocab):\n",
    "    \"\"\"\n",
    "    Pick the next word in the generated text\n",
    "    :param probabilities: Probabilites of the next word\n",
    "    :param int_to_vocab: Dictionary of word ids as the keys and words as the values\n",
    "    :return: String of the predicted word\n",
    "    \"\"\"\n",
    "    # TODO: Implement Function\n",
    "    choice = np.random.choice(range(len(probabilities)), 1, p=probabilities)[0]\n",
    "    return int_to_vocab[choice]\n",
    "\n",
    "\n",
    "\"\"\"\n",
    "DON'T MODIFY ANYTHING IN THIS CELL THAT IS BELOW THIS LINE\n",
    "\"\"\"\n",
    "tests.test_pick_word(pick_word)"
   ]
  },
  {
   "cell_type": "markdown",
   "metadata": {
    "deletable": true,
    "editable": true
   },
   "source": [
    "## Generate TV Script\n",
    "This will generate the TV script for you.  Set `gen_length` to the length of TV script you want to generate."
   ]
  },
  {
   "cell_type": "code",
   "execution_count": 21,
   "metadata": {
    "collapsed": false,
    "deletable": true,
    "editable": true
   },
   "outputs": [
    {
     "name": "stdout",
     "output_type": "stream",
     "text": [
      "INFO:tensorflow:Restoring parameters from ./save\n",
      "moe_szyslak: oh, sounds like a certain loser had something at clear with me. i could do it being being long more and i'd do twenty from the place.\n",
      "carl_carlson: hey guys now what happened?\n",
      "lisa_simpson: what?\n",
      "moe_szyslak:(sing up) listen me. what do... nah.\n",
      "homer_simpson: everyone like a lotta secrets because it, but what am i gonna have.\n",
      "moe_szyslak: oh nothin', this is private laugh!\n",
      "c...(scanning bar, looks return and say, joey technical, moe did. if you're talkin' man. how'd me too.\n",
      "thought_bubble_homer:(guiltily) well! go! wish(sings) delete!\n",
      "barney_gumble:(sings) what like everyone's down there isn't there better drederick!\n",
      "homer_simpson:(quickly) woo, it's perfect weird where you got turning money to get your new back?\n",
      "lisa_simpson: did it see?\n",
      "homer_simpson:(loud whisper) ow! well.\n",
      "homer_simpson:(still moan) my clothes is moe's another game! so i've got it down,\n"
     ]
    }
   ],
   "source": [
    "gen_length = 200\n",
    "# homer_simpson, moe_szyslak, or Barney_Gumble\n",
    "prime_word = 'moe_szyslak'\n",
    "\n",
    "\"\"\"\n",
    "DON'T MODIFY ANYTHING IN THIS CELL THAT IS BELOW THIS LINE\n",
    "\"\"\"\n",
    "loaded_graph = tf.Graph()\n",
    "with tf.Session(graph=loaded_graph) as sess:\n",
    "    # Load saved model\n",
    "    loader = tf.train.import_meta_graph(load_dir + '.meta')\n",
    "    loader.restore(sess, load_dir)\n",
    "\n",
    "    # Get Tensors from loaded model\n",
    "    input_text, initial_state, final_state, probs = get_tensors(loaded_graph)\n",
    "\n",
    "    # Sentences generation setup\n",
    "    gen_sentences = [prime_word + ':']\n",
    "    prev_state = sess.run(initial_state, {input_text: np.array([[1]])})\n",
    "\n",
    "    # Generate sentences\n",
    "    for n in range(gen_length):\n",
    "        # Dynamic Input\n",
    "        dyn_input = [[vocab_to_int[word] for word in gen_sentences[-seq_length:]]]\n",
    "        dyn_seq_length = len(dyn_input[0])\n",
    "\n",
    "        # Get Prediction\n",
    "        probabilities, prev_state = sess.run(\n",
    "            [probs, final_state],\n",
    "            {input_text: dyn_input, initial_state: prev_state})\n",
    "        \n",
    "        pred_word = pick_word(probabilities[dyn_seq_length-1], int_to_vocab)\n",
    "\n",
    "        gen_sentences.append(pred_word)\n",
    "    \n",
    "    # Remove tokens\n",
    "    tv_script = ' '.join(gen_sentences)\n",
    "    for key, token in token_dict.items():\n",
    "        ending = ' ' if key in ['\\n', '(', '\"'] else ''\n",
    "        tv_script = tv_script.replace(' ' + token.lower(), key)\n",
    "    tv_script = tv_script.replace('\\n ', '\\n')\n",
    "    tv_script = tv_script.replace('( ', '(')\n",
    "        \n",
    "    print(tv_script)"
   ]
  },
  {
   "cell_type": "markdown",
   "metadata": {
    "deletable": true,
    "editable": true
   },
   "source": [
    "# The TV Script is Nonsensical\n",
    "It's ok if the TV script doesn't make any sense.  We trained on less than a megabyte of text.  In order to get good results, you'll have to use a smaller vocabulary or get more data.  Luckly there's more data!  As we mentioned in the begging of this project, this is a subset of [another dataset](https://www.kaggle.com/wcukierski/the-simpsons-by-the-data).  We didn't have you train on all the data, because that would take too long.  However, you are free to train your neural network on all the data.  After you complete the project, of course.\n",
    "# Submitting This Project\n",
    "When submitting this project, make sure to run all the cells before saving the notebook. Save the notebook file as \"dlnd_tv_script_generation.ipynb\" and save it as a HTML file under \"File\" -> \"Download as\". Include the \"helper.py\" and \"problem_unittests.py\" files in your submission."
   ]
  }
 ],
 "metadata": {
  "kernelspec": {
   "display_name": "Python 3",
   "language": "python",
   "name": "python3"
  },
  "language_info": {
   "codemirror_mode": {
    "name": "ipython",
    "version": 3
   },
   "file_extension": ".py",
   "mimetype": "text/x-python",
   "name": "python",
   "nbconvert_exporter": "python",
   "pygments_lexer": "ipython3",
   "version": "3.6.1"
  },
  "widgets": {
   "state": {},
   "version": "1.1.2"
  }
 },
 "nbformat": 4,
 "nbformat_minor": 0
}
